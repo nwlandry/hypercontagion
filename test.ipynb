{
 "cells": [
  {
   "cell_type": "code",
   "execution_count": 2,
   "metadata": {},
   "outputs": [],
   "source": [
    "import xgi\n",
    "import hypercontagion as hc\n",
    "import matplotlib.pyplot as plt\n",
    "import time\n",
    "import numpy as np\n",
    "import random\n",
    "import networkx as nx\n",
    "from IPython.display import HTML"
   ]
  },
  {
   "cell_type": "code",
   "execution_count": 3,
   "metadata": {},
   "outputs": [],
   "source": [
    "n = 1000\n",
    "k1 = {i : random.randint(5, 10) for i in range(n)}\n",
    "k2 = {i : sorted(k1.values())[i] for i in range(n)}\n",
    "H = xgi.chung_lu_hypergraph(k1, k2)"
   ]
  },
  {
   "cell_type": "code",
   "execution_count": 4,
   "metadata": {},
   "outputs": [],
   "source": [
    "initial_size = 100\n",
    "gamma = 0.05\n",
    "tau = {i: 0.1 for i in xgi.unique_edge_sizes(H)}"
   ]
  },
  {
   "cell_type": "code",
   "execution_count": 5,
   "metadata": {},
   "outputs": [],
   "source": [
    "transition_events = hc.discrete_SIR(H, tau, gamma, tmin=0, tmax=100, dt=1, rho=0.1, return_event_data=True)"
   ]
  },
  {
   "cell_type": "code",
   "execution_count": 6,
   "metadata": {},
   "outputs": [
    {
     "ename": "AttributeError",
     "evalue": "'list' object has no attribute 'keys'",
     "output_type": "error",
     "traceback": [
      "\u001b[1;31m---------------------------------------------------------------------------\u001b[0m",
      "\u001b[1;31mAttributeError\u001b[0m                            Traceback (most recent call last)",
      "\u001b[1;32mc:\\Users\\nicho\\Documents\\GitHub\\hypercontagion\\test.ipynb Cell 5\u001b[0m in \u001b[0;36m<cell line: 5>\u001b[1;34m()\u001b[0m\n\u001b[0;32m      <a href='vscode-notebook-cell:/c%3A/Users/nicho/Documents/GitHub/hypercontagion/test.ipynb#ch0000004?line=2'>3</a>\u001b[0m fps \u001b[39m=\u001b[39m \u001b[39m1\u001b[39m\n\u001b[0;32m      <a href='vscode-notebook-cell:/c%3A/Users/nicho/Documents/GitHub/hypercontagion/test.ipynb#ch0000004?line=3'>4</a>\u001b[0m fig \u001b[39m=\u001b[39m plt\u001b[39m.\u001b[39mfigure()\n\u001b[1;32m----> <a href='vscode-notebook-cell:/c%3A/Users/nicho/Documents/GitHub/hypercontagion/test.ipynb#ch0000004?line=4'>5</a>\u001b[0m animation \u001b[39m=\u001b[39m hc\u001b[39m.\u001b[39;49mcontagion_animation(fig, H, transition_events, node_state_color_dict, edge_state_color_dict, node_radius\u001b[39m=\u001b[39;49m\u001b[39m1\u001b[39;49m, fps\u001b[39m=\u001b[39;49mfps)\n\u001b[0;32m      <a href='vscode-notebook-cell:/c%3A/Users/nicho/Documents/GitHub/hypercontagion/test.ipynb#ch0000004?line=5'>6</a>\u001b[0m HTML(animation\u001b[39m.\u001b[39mto_jshtml())\n",
      "File \u001b[1;32mc:\\Users\\nicho\\Documents\\GitHub\\hypercontagion\\hypercontagion\\visualization\\animation.py:66\u001b[0m, in \u001b[0;36mcontagion_animation\u001b[1;34m(fig, H, transition_events, node_state_color_dict, edge_state_color_dict, node_radius, fps)\u001b[0m\n\u001b[0;32m     62\u001b[0m node_state \u001b[39m=\u001b[39m defaultdict(\u001b[39mlambda\u001b[39;00m: \u001b[39m\"\u001b[39m\u001b[39mS\u001b[39m\u001b[39m\"\u001b[39m)\n\u001b[0;32m     64\u001b[0m camera \u001b[39m=\u001b[39m Camera(fig)\n\u001b[1;32m---> 66\u001b[0m \u001b[39mfor\u001b[39;00m t \u001b[39min\u001b[39;00m \u001b[39msorted\u001b[39m(\u001b[39mlist\u001b[39m(transition_events\u001b[39m.\u001b[39;49mkeys())):\n\u001b[0;32m     67\u001b[0m     edge_state \u001b[39m=\u001b[39m defaultdict(\u001b[39mlambda\u001b[39;00m: \u001b[39m\"\u001b[39m\u001b[39mOFF\u001b[39m\u001b[39m\"\u001b[39m)\n\u001b[0;32m     69\u001b[0m     \u001b[39m# update edge and node states\u001b[39;00m\n",
      "\u001b[1;31mAttributeError\u001b[0m: 'list' object has no attribute 'keys'"
     ]
    },
    {
     "data": {
      "text/plain": [
       "<Figure size 432x288 with 0 Axes>"
      ]
     },
     "metadata": {},
     "output_type": "display_data"
    }
   ],
   "source": [
    "node_state_color_dict = {\"S\":\"green\", \"I\":\"red\", \"R\":\"blue\"}\n",
    "edge_state_color_dict = {\"S\":(0, 1, 0, 0.3), \"I\":(1, 0, 0, 0.3), \"R\":(0, 0, 1, 0.3), \"OFF\": (1, 1, 1, 0)}\n",
    "fps = 1\n",
    "fig = plt.figure()\n",
    "animation = hc.contagion_animation(fig, H, transition_events, node_state_color_dict, edge_state_color_dict, node_radius=1, fps=fps)\n",
    "HTML(animation.to_jshtml())"
   ]
  },
  {
   "cell_type": "code",
   "execution_count": null,
   "metadata": {},
   "outputs": [],
   "source": []
  }
 ],
 "metadata": {
  "kernelspec": {
   "display_name": "Python 3.10.4 ('hypergraph')",
   "language": "python",
   "name": "python3"
  },
  "language_info": {
   "codemirror_mode": {
    "name": "ipython",
    "version": 3
   },
   "file_extension": ".py",
   "mimetype": "text/x-python",
   "name": "python",
   "nbconvert_exporter": "python",
   "pygments_lexer": "ipython3",
   "version": "3.10.4"
  },
  "orig_nbformat": 4,
  "vscode": {
   "interpreter": {
    "hash": "fdeb83b6e5b2333358b6ba79181fac315f1a722b4574d7079c134c9ae27f7c53"
   }
  }
 },
 "nbformat": 4,
 "nbformat_minor": 2
}
