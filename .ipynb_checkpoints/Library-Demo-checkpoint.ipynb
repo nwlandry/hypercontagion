{
 "cells": [
  {
   "cell_type": "markdown",
   "metadata": {},
   "source": [
    "# Import Packages"
   ]
  },
  {
   "cell_type": "code",
   "execution_count": 3,
   "metadata": {},
   "outputs": [],
   "source": [
    "import HyperContagion\n",
    "import matplotlib.pyplot as plt\n",
    "import time\n",
    "import numpy as np\n",
    "import cProfile\n",
    "import random\n",
    "import hypergraph\n",
    "import hypernetx as hnx\n",
    "import hypernetx.algorithms.contagion as contagion"
   ]
  },
  {
   "cell_type": "markdown",
   "metadata": {},
   "source": [
    "# Set Up the Hypergraph\n",
    "* Specify the number of nodes\n",
    "* Specify the hyperdegree distribution\n",
    "* Generates a configuration model of the hypergraph"
   ]
  },
  {
   "cell_type": "code",
   "execution_count": 4,
   "metadata": {},
   "outputs": [],
   "source": [
    "n = 1000\n",
    "m = 10000\n",
    "\n",
    "\n",
    "# h = {i : random.sample(range(n), random.choice(range(2,25))) for i in range(m)}\n",
    "h = [random.sample(range(n), random.choice(range(2,25))) for i in range(m)]"
   ]
  },
  {
   "cell_type": "code",
   "execution_count": 7,
   "metadata": {},
   "outputs": [],
   "source": [
    "H1 = HyperContagion.Hypergraph(h)\n",
    "H2 = hypergraph.Hypergraph(h)\n",
    "H3 = hypergraph.FastHypergraph(h)\n",
    "H4 = hnx.Hypergraph(h, static=True)"
   ]
  },
  {
   "cell_type": "markdown",
   "metadata": {},
   "source": [
    "# Epidemic Simulations"
   ]
  },
  {
   "cell_type": "markdown",
   "metadata": {},
   "source": [
    "## Epidemic Parameters\n",
    "* Initial size is the number of initial infected nodes\n",
    "* $\\gamma$ is the healing rate of a node\n",
    "* $\\mathbf{\\beta}$ is the infection rate for each hyperedge size (keys are the hyperedge size and the value is the infection rate)"
   ]
  },
  {
   "cell_type": "code",
   "execution_count": 8,
   "metadata": {},
   "outputs": [],
   "source": [
    "initial_size = 10\n",
    "gamma = 0.01\n",
    "tau = {i:0.01 for i in range(2,25)}"
   ]
  },
  {
   "cell_type": "markdown",
   "metadata": {},
   "source": [
    "## Run an SIR simulation on hypergraphs\n",
    "* First simulation is is with discrete time steps (DTMC)\n",
    "* Second simulation is the Gillespie algorithm (CTMC)"
   ]
  },
  {
   "cell_type": "code",
   "execution_count": null,
   "metadata": {},
   "outputs": [],
   "source": [
    "start = time.time()\n",
    "random.seed(0)\n",
    "t1, S1, I1 = HyperContagion.discrete_SIS(H1, tau, gamma, tmin=0, tmax=100, dt=1, rho=0.1)\n",
    "t1 = time.time() - start\n",
    "\n",
    "start = time.time()\n",
    "random.seed(0)\n",
    "t2, S2, I2 = HyperContagion.discrete_SIS1(H2, tau, gamma, tmin=0, tmax=100, dt=1, rho=0.1)\n",
    "t2 = time.time() - start\n",
    "\n",
    "start = time.time()\n",
    "random.seed(0)\n",
    "t3, S3, I3 = HyperContagion.discrete_SIS2(H3, tau, gamma, tmin=0, tmax=100, dt=1, rho=0.1)\n",
    "t3 = time.time() - start\n",
    "\n",
    "start = time.time()\n",
    "random.seed(0)\n",
    "t, S, I, R = contagion.discrete_SIR(H, tau, gamma, rho=0.1, tmin=0, tmax=tmax, dt=dt)\n",
    "t4 = time.time() - start\n",
    "\n",
    "\n",
    "print(t2/t1)\n",
    "print(t3/t1)\n",
    "print(t4/t1)"
   ]
  },
  {
   "cell_type": "code",
   "execution_count": 7,
   "metadata": {},
   "outputs": [
    {
     "data": {
      "image/png": "[encoded data removed]",
      "text/plain": [
       "<Figure size 432x288 with 1 Axes>"
      ]
     },
     "metadata": {
      "needs_background": "light"
     },
     "output_type": "display_data"
    }
   ],
   "source": [
    "plt.figure()\n",
    "plt.plot(t1, I1, label=\"1\")\n",
    "plt.plot(t2, I2, label=\"2\")\n",
    "plt.plot(t3, I3, label=\"3\")\n",
    "plt.legend()\n",
    "plt.show()"
   ]
  },
  {
   "cell_type": "code",
   "execution_count": null,
   "metadata": {},
   "outputs": [],
   "source": [
    "#t1, S1, I1, R1 = HyperContagion.discrete_SIR(H, tau, gamma, tmin=0, tmax=100, dt=0.1, rho=0.1)\n",
    "#t2, S2, I2, R2 = HyperContagion.Gillespie_SIR(H, tau, gamma, tmin=0, tmax=100, rho=0.1)\n",
    "# cProfile.run('HyperContagion.discrete_SIR(H, tau, gamma, tmin=0, tmax=100, dt=0.1, rho=0.1)', sort=\"tottime\")\n",
    "#t, S2, I2, R2 = Gillespie_SIR(H, tau, gamma, tmin=0, tmax = 100, initial_infecteds = range(initial_size))"
   ]
  },
  {
   "cell_type": "code",
   "execution_count": 12,
   "metadata": {},
   "outputs": [
    {
     "ename": "TypeError",
     "evalue": "'int' object is not subscriptable",
     "output_type": "error",
     "traceback": [
      "\u001b[1;31m---------------------------------------------------------------------------\u001b[0m",
      "\u001b[1;31mTypeError\u001b[0m                                 Traceback (most recent call last)",
      "\u001b[1;32m<ipython-input-12-1e764b4a2c9e>\u001b[0m in \u001b[0;36m<module>\u001b[1;34m\u001b[0m\n\u001b[1;32m----> 1\u001b[1;33m \u001b[0mH3\u001b[0m\u001b[1;33m.\u001b[0m\u001b[0medges\u001b[0m\u001b[1;33m[\u001b[0m\u001b[1;36m0\u001b[0m\u001b[1;33m]\u001b[0m\u001b[1;33m[\u001b[0m\u001b[1;34m\"members\"\u001b[0m\u001b[1;33m]\u001b[0m\u001b[1;33m\u001b[0m\u001b[1;33m\u001b[0m\u001b[0m\n\u001b[0m",
      "\u001b[1;31mTypeError\u001b[0m: 'int' object is not subscriptable"
     ]
    }
   ],
   "source": [
    "H3.edges[0][\"members\"]"
   ]
  },
  {
   "cell_type": "markdown",
   "metadata": {},
   "source": [
    "### Plot the results"
   ]
  },
  {
   "cell_type": "code",
   "execution_count": null,
   "metadata": {},
   "outputs": [],
   "source": [
    "plt.figure()\n",
    "plt.plot(t1, S1/n, label=\"S (discrete)\")\n",
    "plt.plot(t1, I1/n, label=\"I (discrete)\")\n",
    "plt.plot(t1, R1/n, label=\"R (discrete)\")\n",
    "plt.plot(t2, S2/n, label=\"S (continuous)\")\n",
    "plt.plot(t2, I2/n, label=\"I (continuous)\")\n",
    "plt.plot(t2, R2/n, label=\"R (continuous)\")\n",
    "plt.legend()\n",
    "plt.xlabel('time')\n",
    "plt.ylabel('Fraction infected')\n",
    "plt.show()"
   ]
  },
  {
   "cell_type": "markdown",
   "metadata": {},
   "source": [
    "## Run an SIS simulation on hypergraphs\n",
    "* First simulation is is with discrete time steps (DTMC)\n",
    "* Second simulation is the Gillespie algorithm (CTMC)"
   ]
  },
  {
   "cell_type": "code",
   "execution_count": null,
   "metadata": {},
   "outputs": [],
   "source": [
    "t1, S1, I1 = HyperContagion.discrete_SIS(H, tau, gamma, tmin=0, tmax=100, dt=1, initial_infecteds=range(initial_size))\n",
    "t, S2, I2 = HyperContagion.Gillespie_SIS(H, tau, gamma, tmin=0, tmax=100, initial_infecteds=range(initial_size))"
   ]
  },
  {
   "cell_type": "markdown",
   "metadata": {},
   "source": [
    "### Plot the results"
   ]
  },
  {
   "cell_type": "code",
   "execution_count": null,
   "metadata": {},
   "outputs": [],
   "source": [
    "plt.figure()\n",
    "plt.plot(t1, S1/n, label=\"S (discrete)\")\n",
    "plt.plot(t1, I1/n, label=\"I (discrete)\")\n",
    "plt.plot(t, S2/n, label=\"S (continuous)\")\n",
    "plt.plot(t, I2/n, label=\"I (continuous)\")\n",
    "plt.legend()\n",
    "plt.xlabel('time')\n",
    "plt.ylabel('Fraction infected')\n",
    "plt.show()\n"
   ]
  },
  {
   "cell_type": "markdown",
   "metadata": {},
   "source": [
    "# Opinion Models\n",
    "* Discrete state, random update (Voter model)\n",
    "* Discrete state, deterministic update (Majority rule)\n",
    "* Continuous state, random update (Deffuant-Weisbuch model)\n",
    "* Continuous state, deterministic update (Hegelmann-Krause)"
   ]
  },
  {
   "cell_type": "markdown",
   "metadata": {},
   "source": [
    "## Voter Model\n",
    "* Binary opinion: For/Against or Yes/No\n",
    "* Randomly choose a hyperedge and if a majority of neighbors believe the opposite, then you change your mind "
   ]
  },
  {
   "cell_type": "markdown",
   "metadata": {},
   "source": [
    "### Run simulation"
   ]
  },
  {
   "cell_type": "code",
   "execution_count": null,
   "metadata": {},
   "outputs": [],
   "source": [
    "yesAndNo = [random.choice([\"Yes\", \"No\"]) for i in range(n)]\n",
    "yesAndNo = np.array(yesAndNo, dtype=object)\n",
    "t, statesVM = HyperContagion.random_node_and_group_sim_discrete_state(H, yesAndNo, tmin=0, tmax=10000)"
   ]
  },
  {
   "cell_type": "markdown",
   "metadata": {},
   "source": [
    "### Plot Results"
   ]
  },
  {
   "cell_type": "code",
   "execution_count": null,
   "metadata": {},
   "outputs": [],
   "source": [
    "yesArray = np.count_nonzero(statesVM == \"Yes\", axis=0)\n",
    "noArray = np.count_nonzero(statesVM == \"No\", axis=0)\n",
    "plt.figure()\n",
    "plt.plot(t, yesArray, label=\"For\")\n",
    "plt.plot(t, noArray, label=\"Against\")\n",
    "plt.xlabel(\"Time\")\n",
    "plt.ylabel(\"Number of people for idea\")\n",
    "plt.legend()\n",
    "plt.show()"
   ]
  },
  {
   "cell_type": "markdown",
   "metadata": {},
   "source": [
    "## Deffuant-Weisbuch"
   ]
  },
  {
   "cell_type": "markdown",
   "metadata": {},
   "source": [
    "$\\epsilon$ is a \"cautiousness\" parameter"
   ]
  },
  {
   "cell_type": "code",
   "execution_count": null,
   "metadata": {},
   "outputs": [],
   "source": [
    "epsilon=0.3"
   ]
  },
  {
   "cell_type": "markdown",
   "metadata": {},
   "source": [
    "### Run Simulation"
   ]
  },
  {
   "cell_type": "code",
   "execution_count": null,
   "metadata": {},
   "outputs": [],
   "source": [
    "initial_states = np.random.uniform(low=-1.0, high=1.0, size=n)\n",
    "t, statesDW = HyperContagion.random_group_sim_continuous_state_1D(H, initial_states, tmin = 0, tmax=10000, epsilon=epsilon)"
   ]
  },
  {
   "cell_type": "markdown",
   "metadata": {},
   "source": [
    "### Plot Results"
   ]
  },
  {
   "cell_type": "code",
   "execution_count": null,
   "metadata": {},
   "outputs": [],
   "source": [
    "plt.figure()\n",
    "plt.plot(t, statesDW[::10,:].T)\n",
    "plt.xlabel(\"Time\")\n",
    "plt.ylabel(\"Opinion on the spectrum [-1,1]\")\n",
    "plt.show()"
   ]
  },
  {
   "cell_type": "markdown",
   "metadata": {},
   "source": [
    "## Hegselmann-Krause"
   ]
  },
  {
   "cell_type": "markdown",
   "metadata": {},
   "source": [
    "### Run Simulation"
   ]
  },
  {
   "cell_type": "code",
   "execution_count": null,
   "metadata": {},
   "outputs": [],
   "source": [
    "initial_states = np.random.uniform(low=-1.0, high=1.0, size=n)\n",
    "t, statesHK = HyperContagion.synchronous_update_continuous_state_1D(H, initial_states, tmin=0, tmax=10)"
   ]
  },
  {
   "cell_type": "markdown",
   "metadata": {},
   "source": [
    "### Plot Results"
   ]
  },
  {
   "cell_type": "code",
   "execution_count": null,
   "metadata": {},
   "outputs": [],
   "source": [
    "plt.figure()\n",
    "plt.plot(t, statesHK[::50,:].T)\n",
    "plt.xlabel(\"Time\")\n",
    "plt.ylabel(\"Opinion on the spectrum [-1,1]\")\n",
    "plt.show()"
   ]
  },
  {
   "cell_type": "code",
   "execution_count": null,
   "metadata": {},
   "outputs": [],
   "source": []
  }
 ],
 "metadata": {
  "celltoolbar": "Raw Cell Format",
  "kernelspec": {
   "display_name": "Python 3",
   "language": "python",
   "name": "python3"
  },
  "language_info": {
   "codemirror_mode": {
    "name": "ipython",
    "version": 3
   },
   "file_extension": ".py",
   "mimetype": "text/x-python",
   "name": "python",
   "nbconvert_exporter": "python",
   "pygments_lexer": "ipython3",
   "version": "3.9.4"
  }
 },
 "nbformat": 4,
 "nbformat_minor": 4
}
