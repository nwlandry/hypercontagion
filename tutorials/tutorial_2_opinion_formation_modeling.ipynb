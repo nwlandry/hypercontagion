{
 "cells": [
  {
   "cell_type": "markdown",
   "metadata": {},
   "source": [
    "# Import Packages"
   ]
  },
  {
   "cell_type": "code",
   "execution_count": null,
   "metadata": {},
   "outputs": [],
   "source": [
    "import xgi\n",
    "import hypercontagion as hc\n",
    "import matplotlib.pyplot as plt\n",
    "import numpy as np\n",
    "import random"
   ]
  },
  {
   "cell_type": "markdown",
   "metadata": {},
   "source": [
    "# Set Up the Hypergraph\n",
    "* Specify the number of nodes\n",
    "* Specify the hyperdegree distribution\n",
    "* Generates a configuration model of the hypergraph"
   ]
  },
  {
   "cell_type": "code",
   "execution_count": null,
   "metadata": {},
   "outputs": [],
   "source": [
    "n = 1000\n",
    "k1 = {i: random.randint(5, 10) for i in range(n)}\n",
    "k2 = {i: sorted(k1.values())[i] for i in range(n)}\n",
    "H = xgi.chung_lu_hypergraph(k1, k2)"
   ]
  },
  {
   "cell_type": "markdown",
   "metadata": {},
   "source": [
    "# Opinion Models\n",
    "* Discrete state, random update (Voter model)\n",
    "* Discrete state, deterministic update (Majority rule)\n",
    "* Continuous state, random update (Deffuant-Weisbuch model)\n",
    "* Continuous state, deterministic update (Hegelmann-Krause)"
   ]
  },
  {
   "cell_type": "markdown",
   "metadata": {},
   "source": [
    "## Voter Model\n",
    "* Binary opinion: For/Against or Yes/No\n",
    "* Randomly choose a hyperedge and if a majority of neighbors believe the opposite, then you change your mind "
   ]
  },
  {
   "cell_type": "markdown",
   "metadata": {},
   "source": [
    "### Run simulation"
   ]
  },
  {
   "cell_type": "code",
   "execution_count": null,
   "metadata": {},
   "outputs": [],
   "source": [
    "yes_and_no = [random.choice([\"Yes\", \"No\"]) for i in range(n)]\n",
    "yes_and_no = np.array(yes_and_no, dtype=object)\n",
    "t, voter_model_states = hc.simulate_random_node_and_group_discrete_state(\n",
    "    H, yes_and_no, tmin=0, tmax=10000\n",
    ")"
   ]
  },
  {
   "cell_type": "markdown",
   "metadata": {},
   "source": [
    "### Plot Results"
   ]
  },
  {
   "cell_type": "code",
   "execution_count": null,
   "metadata": {},
   "outputs": [],
   "source": [
    "yes = np.count_nonzero(voter_model_states == \"Yes\", axis=0)\n",
    "no = np.count_nonzero(voter_model_states == \"No\", axis=0)\n",
    "plt.figure()\n",
    "plt.plot(t, yes / n, label=\"For\")\n",
    "plt.plot(t, no / n, label=\"Against\")\n",
    "plt.xlabel(\"Time\")\n",
    "plt.ylabel(\"Fraction of population\")\n",
    "plt.legend()\n",
    "plt.show()"
   ]
  },
  {
   "cell_type": "markdown",
   "metadata": {},
   "source": [
    "## Deffuant-Weisbuch"
   ]
  },
  {
   "cell_type": "markdown",
   "metadata": {},
   "source": [
    "$\\epsilon$ is a \"cautiousness\" parameter"
   ]
  },
  {
   "cell_type": "code",
   "execution_count": null,
   "metadata": {},
   "outputs": [],
   "source": [
    "epsilon = 0.3\n",
    "initial_states = np.random.uniform(low=-1.0, high=1.0, size=n)\n",
    "t, states_DW = hc.simulate_random_group_continuous_state_1D(\n",
    "    H, initial_states, tmin=0, tmax=2000, epsilon=epsilon\n",
    ")"
   ]
  },
  {
   "cell_type": "markdown",
   "metadata": {},
   "source": [
    "### Plot Results"
   ]
  },
  {
   "cell_type": "code",
   "execution_count": null,
   "metadata": {},
   "outputs": [],
   "source": [
    "plt.figure()\n",
    "plt.plot(t, states_DW[::10, :].T)\n",
    "plt.xlabel(\"Time\")\n",
    "plt.ylabel(\"Ideology\")\n",
    "plt.show()"
   ]
  },
  {
   "cell_type": "markdown",
   "metadata": {},
   "source": [
    "## Hegselmann-Krause"
   ]
  },
  {
   "cell_type": "markdown",
   "metadata": {},
   "source": [
    "### Run Simulation"
   ]
  },
  {
   "cell_type": "code",
   "execution_count": null,
   "metadata": {},
   "outputs": [],
   "source": [
    "initial_states = np.random.uniform(low=-1.0, high=1.0, size=n)\n",
    "t, states_HK = hc.synchronous_update_continuous_state_1D(\n",
    "    H, initial_states, tmin=0, tmax=100\n",
    ")"
   ]
  },
  {
   "cell_type": "markdown",
   "metadata": {},
   "source": [
    "### Plot Results"
   ]
  },
  {
   "cell_type": "code",
   "execution_count": null,
   "metadata": {},
   "outputs": [],
   "source": [
    "plt.figure()\n",
    "plt.plot(t, states_HK[::20, :].T)\n",
    "plt.xlabel(\"Time\")\n",
    "plt.ylabel(\"Ideology\")\n",
    "plt.xlim([0, 40])\n",
    "plt.show()"
   ]
  }
 ],
 "metadata": {
  "celltoolbar": "Raw Cell Format",
  "kernelspec": {
   "display_name": "hyper",
   "language": "python",
   "name": "python3"
  },
  "language_info": {
   "codemirror_mode": {
    "name": "ipython",
    "version": 3
   },
   "file_extension": ".py",
   "mimetype": "text/x-python",
   "name": "python",
   "nbconvert_exporter": "python",
   "pygments_lexer": "ipython3",
   "version": "3.10.0 (default, Mar  3 2022, 03:54:28) [Clang 12.0.0 ]"
  },
  "vscode": {
   "interpreter": {
    "hash": "006b130b0afef3e20a59d32b3e368dadb49787729b49e0c4fc1ec3e01c886557"
   }
  }
 },
 "nbformat": 4,
 "nbformat_minor": 4
}
