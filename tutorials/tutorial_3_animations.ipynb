{
 "cells": [
  {
   "cell_type": "code",
   "execution_count": null,
   "metadata": {},
   "outputs": [],
   "source": [
    "import xgi\n",
    "import hypercontagion as hc\n",
    "import matplotlib.pyplot as plt\n",
    "import time\n",
    "import numpy as np\n",
    "import random\n",
    "import networkx as nx\n",
    "from IPython.display import HTML\n",
    "import matplotlib.animation as animation"
   ]
  },
  {
   "cell_type": "code",
   "execution_count": null,
   "metadata": {},
   "outputs": [],
   "source": [
    "H = xgi.load_xgi_data(\"diseasome\")\n",
    "H.cleanup()"
   ]
  },
  {
   "cell_type": "code",
   "execution_count": null,
   "metadata": {},
   "outputs": [],
   "source": [
    "xgi.unique_edge_sizes(H)"
   ]
  },
  {
   "cell_type": "code",
   "execution_count": null,
   "metadata": {},
   "outputs": [],
   "source": [
    "gamma = 0.05\n",
    "beta = 0.05\n",
    "tau = {i: beta for i in xgi.unique_edge_sizes(H)}\n",
    "rho = 0.1"
   ]
  },
  {
   "cell_type": "code",
   "execution_count": null,
   "metadata": {},
   "outputs": [],
   "source": [
    "transition_events = hc.discrete_SIR(\n",
    "    H, tau, gamma, tmin=0, dt=1, rho=rho, return_event_data=True\n",
    ")"
   ]
  },
  {
   "cell_type": "code",
   "execution_count": null,
   "metadata": {},
   "outputs": [],
   "source": [
    "pos = xgi.pairwise_spring_layout(H)"
   ]
  },
  {
   "cell_type": "code",
   "execution_count": null,
   "metadata": {},
   "outputs": [],
   "source": [
    "S_color = \"white\"\n",
    "I_color = 'firebrick'\n",
    "R_color = 'steelblue'\n",
    "\n",
    "node_colors = {\"S\": S_color, \"I\": I_color, \"R\": R_color}\n",
    "edge_colors = {\"S\": S_color, \"I\": I_color, \"R\": R_color, \"OFF\": \"grey\"}\n",
    "fps = 1\n",
    "fig = plt.figure(figsize=(10, 10))\n",
    "anim = hc.contagion_animation(\n",
    "    fig, H, transition_events, pos, node_colors, edge_colors, fps=fps, node_size=10, dyad_lw=1.5\n",
    ")\n",
    "# FFwriter = animation.FFMpegWriter(fps=fps)\n",
    "# anim.save('animation.mp4', writer = FFwriter)"
   ]
  },
  {
   "cell_type": "code",
   "execution_count": null,
   "metadata": {},
   "outputs": [],
   "source": [
    "HTML(anim.to_jshtml())"
   ]
  }
 ],
 "metadata": {
  "kernelspec": {
   "display_name": "Python 3.10.4 ('hypergraph')",
   "language": "python",
   "name": "python3"
  },
  "language_info": {
   "codemirror_mode": {
    "name": "ipython",
    "version": 3
   },
   "file_extension": ".py",
   "mimetype": "text/x-python",
   "name": "python",
   "nbconvert_exporter": "python",
   "pygments_lexer": "ipython3",
   "version": "3.10.0"
  },
  "orig_nbformat": 4,
  "vscode": {
   "interpreter": {
    "hash": "fdeb83b6e5b2333358b6ba79181fac315f1a722b4574d7079c134c9ae27f7c53"
   }
  }
 },
 "nbformat": 4,
 "nbformat_minor": 2
}
