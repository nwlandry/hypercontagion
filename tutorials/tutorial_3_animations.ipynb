{
 "cells": [
  {
   "cell_type": "code",
   "execution_count": null,
   "metadata": {},
   "outputs": [],
   "source": [
    "import xgi\n",
    "import hypercontagion as hc\n",
    "import matplotlib.pyplot as plt\n",
    "import time\n",
    "import numpy as np\n",
    "import random\n",
    "import networkx as nx\n",
    "from IPython.display import HTML"
   ]
  },
  {
   "cell_type": "code",
   "execution_count": null,
   "metadata": {},
   "outputs": [],
   "source": [
    "n = 100\n",
    "is_connected = False\n",
    "while not is_connected:\n",
    "    H = xgi.random_hypergraph(n, [0.03, 0.0002, 0.00001])\n",
    "    is_connected = xgi.is_connected(H)\n",
    "pos = xgi.barycenter_spring_layout(H)"
   ]
  },
  {
   "cell_type": "code",
   "execution_count": null,
   "metadata": {},
   "outputs": [],
   "source": [
    "gamma = 0.05\n",
    "beta2 = 0.1\n",
    "beta3 = 0.05\n",
    "beta4 = 0.01\n",
    "tau = {1: 0, 2: beta2, 3: beta3, 4: beta4}\n",
    "rho = 0.1"
   ]
  },
  {
   "cell_type": "code",
   "execution_count": null,
   "metadata": {},
   "outputs": [],
   "source": [
    "transition_events = hc.discrete_SIR(\n",
    "    H, tau, gamma, tmin=0, tmax=40, dt=1, rho=rho, return_event_data=True\n",
    ")"
   ]
  },
  {
   "cell_type": "code",
   "execution_count": null,
   "metadata": {},
   "outputs": [],
   "source": [
    "pos = xgi.pairwise_spring_layout(H)"
   ]
  },
  {
   "cell_type": "code",
   "execution_count": null,
   "metadata": {},
   "outputs": [],
   "source": [
    "node_colors = {\"S\": \"green\", \"I\": \"red\", \"R\": \"blue\"}\n",
    "edge_colors = {\"S\": \"green\", \"I\": \"red\", \"R\": \"blue\", \"OFF\": \"grey\"}\n",
    "fps = 1\n",
    "fig = plt.figure(figsize=(10, 10))\n",
    "animation = hc.contagion_animation(\n",
    "    fig, H, transition_events, pos, node_colors, edge_colors, fps=fps\n",
    ")\n",
    "HTML(animation.to_jshtml())"
   ]
  },
  {
   "cell_type": "code",
   "execution_count": null,
   "metadata": {},
   "outputs": [],
   "source": []
  }
 ],
 "metadata": {
  "kernelspec": {
   "display_name": "Python 3.10.4 ('hypergraph')",
   "language": "python",
   "name": "python3"
  },
  "language_info": {
   "codemirror_mode": {
    "name": "ipython",
    "version": 3
   },
   "file_extension": ".py",
   "mimetype": "text/x-python",
   "name": "python",
   "nbconvert_exporter": "python",
   "pygments_lexer": "ipython3",
   "version": "3.10.4"
  },
  "orig_nbformat": 4,
  "vscode": {
   "interpreter": {
    "hash": "fdeb83b6e5b2333358b6ba79181fac315f1a722b4574d7079c134c9ae27f7c53"
   }
  }
 },
 "nbformat": 4,
 "nbformat_minor": 2
}
