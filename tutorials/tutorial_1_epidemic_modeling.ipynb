{
 "cells": [
  {
   "cell_type": "markdown",
   "metadata": {},
   "source": [
    "# Import Packages"
   ]
  },
  {
   "cell_type": "code",
   "execution_count": null,
   "metadata": {},
   "outputs": [],
   "source": [
    "import xgi\n",
    "import hypercontagion as hc\n",
    "import matplotlib.pyplot as plt\n",
    "import time\n",
    "import numpy as np\n",
    "import random"
   ]
  },
  {
   "cell_type": "markdown",
   "metadata": {},
   "source": [
    "# Set Up the Hypergraph\n",
    "* Specify the number of nodes\n",
    "* Specify the hyperdegree distribution\n",
    "* Generates a configuration model of the hypergraph"
   ]
  },
  {
   "cell_type": "code",
   "execution_count": null,
   "metadata": {},
   "outputs": [],
   "source": [
    "n = 1000\n",
    "k1 = {i : random.randint(5, 10) for i in range(n)}\n",
    "k2 = {i : sorted(k1.values())[i] for i in range(n)}\n",
    "H = xgi.chung_lu_hypergraph(k1, k2)"
   ]
  },
  {
   "cell_type": "markdown",
   "metadata": {},
   "source": [
    "# Epidemic Simulations"
   ]
  },
  {
   "cell_type": "markdown",
   "metadata": {},
   "source": [
    "## Epidemic Parameters\n",
    "* Initial size is the number of initial infected nodes\n",
    "* $\\gamma$ is the healing rate of a node\n",
    "* $\\mathbf{\\beta}$ is the infection rate for each hyperedge size (keys are the hyperedge size and the value is the infection rate)"
   ]
  },
  {
   "cell_type": "code",
   "execution_count": null,
   "metadata": {},
   "outputs": [],
   "source": [
    "initial_size = 100\n",
    "gamma = 0.05\n",
    "tau = {i: 0.1 for i in xgi.unique_edge_sizes(H)}"
   ]
  },
  {
   "cell_type": "markdown",
   "metadata": {},
   "source": [
    "## Run an SIR simulation on hypergraphs\n",
    "* First simulation is is with discrete time steps (DTMC)\n",
    "* Second simulation is the Gillespie algorithm (CTMC)"
   ]
  },
  {
   "cell_type": "code",
   "execution_count": null,
   "metadata": {},
   "outputs": [],
   "source": [
    "start = time.time()\n",
    "t1, S1, I1, R1 = hc.discrete_SIR(H, tau, gamma, tmin=0, tmax=100, dt=1, rho=0.1)\n",
    "print(time.time() - start)\n",
    "\n",
    "start = time.time()\n",
    "t2, S2, I2, R2 = hc.Gillespie_SIR(H, tau, gamma, tmin=0, tmax = 100, rho=0.1)\n",
    "print(time.time() - start)\n",
    "\n",
    "start = time.time()\n",
    "t3, S3, I3, R3 = hc.event_driven_SIR(H, tau, gamma, tmin=0, tmax=100, dt=1, rho=0.1)\n",
    "print(time.time() - start)"
   ]
  },
  {
   "cell_type": "markdown",
   "metadata": {},
   "source": [
    "### Plot the results"
   ]
  },
  {
   "cell_type": "code",
   "execution_count": null,
   "metadata": {},
   "outputs": [],
   "source": [
    "plt.figure()\n",
    "plt.plot(t1, S1/n, 'g--', label=\"S (discrete)\")\n",
    "plt.plot(t1, I1/n, 'r--', label=\"I (discrete)\")\n",
    "plt.plot(t1, R1/n, 'b--', label=\"R (discrete)\")\n",
    "plt.plot(t2, S2/n, 'g-', label=\"S (Gillespie)\")\n",
    "plt.plot(t2, I2/n, 'r-', label=\"I (Gillespie)\")\n",
    "plt.plot(t2, R2/n, 'b-', label=\"R (Gillespie)\")\n",
    "plt.plot(t3, S3/n, 'g-.', label=\"S (event-driven)\")\n",
    "plt.plot(t3, I3/n, 'r-.', label=\"I (event-driven)\")\n",
    "plt.plot(t3, R3/n, 'b-.', label=\"R (event-driven)\")\n",
    "plt.legend()\n",
    "plt.xlabel('Time')\n",
    "plt.ylabel('Fraction of population')\n",
    "plt.show()"
   ]
  },
  {
   "cell_type": "markdown",
   "metadata": {},
   "source": [
    "## Run an SIS simulation on hypergraphs\n",
    "* First simulation is is with discrete time steps (DTMC)\n",
    "* Second simulation is the Gillespie algorithm (CTMC)"
   ]
  },
  {
   "cell_type": "code",
   "execution_count": null,
   "metadata": {},
   "outputs": [],
   "source": [
    "start = time.time()\n",
    "t1, S1, I1 = hc.discrete_SIS(H, tau, gamma, tmin=0, tmax=50, dt=1, rho=0.5)\n",
    "print(time.time() - start)\n",
    "\n",
    "start = time.time()\n",
    "t2, S2, I2 = hc.Gillespie_SIS(H, tau, gamma, tmin=0, tmax=50, rho=0.5)\n",
    "print(time.time() - start)\n",
    "\n",
    "start = time.time()\n",
    "t3, S3, I3 = hc.event_driven_SIS(H, tau, gamma, tmin=0, tmax=50, rho=0.5)\n",
    "print(time.time() - start)"
   ]
  },
  {
   "cell_type": "markdown",
   "metadata": {},
   "source": [
    "### Plot the results"
   ]
  },
  {
   "cell_type": "code",
   "execution_count": null,
   "metadata": {},
   "outputs": [],
   "source": [
    "plt.figure()\n",
    "plt.plot(t1, S1/n, 'g--', label=\"S (discrete)\")\n",
    "plt.plot(t1, I1/n, 'r--', label=\"I (discrete)\")\n",
    "plt.plot(t2, S2/n, 'g-', label=\"S (Gillespie)\")\n",
    "plt.plot(t2, I2/n, 'r-', label=\"I (Gillespie)\")\n",
    "plt.plot(t3, S3/n, 'g-.', label=\"S (event-driven)\")\n",
    "plt.plot(t3, I3/n, 'r-.', label=\"I (event-driven)\")\n",
    "plt.legend()\n",
    "plt.xlabel('Time')\n",
    "plt.ylabel('Fraction of population')\n",
    "plt.show()"
   ]
  },
  {
   "cell_type": "code",
   "execution_count": null,
   "metadata": {},
   "outputs": [],
   "source": []
  }
 ],
 "metadata": {
  "celltoolbar": "Raw Cell Format",
  "kernelspec": {
   "display_name": "Python 3.10.5 64-bit",
   "language": "python",
   "name": "python3"
  },
  "language_info": {
   "codemirror_mode": {
    "name": "ipython",
    "version": 3
   },
   "file_extension": ".py",
   "mimetype": "text/x-python",
   "name": "python",
   "nbconvert_exporter": "python",
   "pygments_lexer": "ipython3",
   "version": "3.10.5"
  },
  "vscode": {
   "interpreter": {
    "hash": "88880b30d22c3e82d444bc5a40c679bbf2837a658927a3eed0b1fab0c002b813"
   }
  }
 },
 "nbformat": 4,
 "nbformat_minor": 4
}
