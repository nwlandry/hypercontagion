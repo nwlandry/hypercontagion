{
 "cells": [
  {
   "cell_type": "markdown",
   "metadata": {},
   "source": [
    "# Import Packages"
   ]
  },
  {
   "cell_type": "code",
   "execution_count": null,
   "metadata": {},
   "outputs": [],
   "source": [
    "from hypercontagion.Hypergraph import Hypergraph, HypergraphGenerator\n",
    "from hypercontagion.simulation.epidemics import *\n",
    "import hypercontagion\n",
    "import matplotlib.pyplot as plt\n",
    "import time\n",
    "import numpy as np\n",
    "import cProfile\n",
    "import random"
   ]
  },
  {
   "cell_type": "markdown",
   "metadata": {},
   "source": [
    "# Set Up the Hypergraph\n",
    "* Specify the number of nodes\n",
    "* Specify the hyperdegree distribution\n",
    "* Generates a configuration model of the hypergraph"
   ]
  },
  {
   "cell_type": "code",
   "execution_count": null,
   "metadata": {},
   "outputs": [],
   "source": [
    "n = 100\n",
    "parameters = [{\"degree-distribution\":\"power-law\",\"min-degree\":10,\"max-degree\":1000,\"hyperedge-size\":2,\"size\":n,\"is-correlated\":True,\"exponent\":3},{\"degree-distribution\":\"power-law\",\"min-degree\":10,\"max-degree\":1000,\"hyperedge-size\":3,\"size\":n,\"is-correlated\":True,\"exponent\":3}]\n",
    "\n",
    "h = HypergraphGenerator(parameters)\n",
    "H = Hypergraph(h.getHyperedges())\n",
    "m = 1000\n",
    "test = [tuple(random.sample(range(n), k=random.choice([2, 3]))) for i in range(m)]\n",
    "H = Hypergraph(test)"
   ]
  },
  {
   "cell_type": "markdown",
   "metadata": {},
   "source": [
    "# Epidemic Simulations"
   ]
  },
  {
   "cell_type": "markdown",
   "metadata": {},
   "source": [
    "## Epidemic Parameters\n",
    "* Initial size is the number of initial infected nodes\n",
    "* $\\gamma$ is the healing rate of a node\n",
    "* $\\mathbf{\\beta}$ is the infection rate for each hyperedge size (keys are the hyperedge size and the value is the infection rate)"
   ]
  },
  {
   "cell_type": "code",
   "execution_count": null,
   "metadata": {},
   "outputs": [],
   "source": [
    "initial_size = 10\n",
    "gamma = 0.01\n",
    "tau = {2:0.01,3:0.01}"
   ]
  },
  {
   "cell_type": "markdown",
   "metadata": {},
   "source": [
    "## Run an SIR simulation on hypergraphs\n",
    "* First simulation is is with discrete time steps (DTMC)\n",
    "* Second simulation is the Gillespie algorithm (CTMC)"
   ]
  },
  {
   "cell_type": "code",
   "execution_count": null,
   "metadata": {},
   "outputs": [],
   "source": [
    "t1, S1, I1, R1 = discrete_SIR(H, tau, gamma, tmin=0, tmax=10, dt=0.1, initial_infecteds = range(initial_size))\n",
    "t, S2, I2, R2 = Gillespie_SIR(H, tau, gamma, tmin=0, tmax = 10, initial_infecteds = range(initial_size))\n",
    "#cProfile.run('discrete_SIR(H, tau, gamma, tmin=0, tmax=100, dt=0.1, rho=0.5)', sort=\"cumtime\")\n",
    "#t, S2, I2, R2 = Gillespie_SIR(H, tau, gamma, tmin=0, tmax = 100, initial_infecteds = range(initial_size))"
   ]
  },
  {
   "cell_type": "markdown",
   "metadata": {},
   "source": [
    "### Plot the results"
   ]
  },
  {
   "cell_type": "code",
   "execution_count": null,
   "metadata": {},
   "outputs": [],
   "source": [
    "plt.figure()\n",
    "# plt.plot(t1, S1/n, label=\"S (discrete)\")\n",
    "# plt.plot(t1, I1/n, label=\"I (discrete)\")\n",
    "# plt.plot(t1, R1/n, label=\"R (discrete)\")\n",
    "plt.plot(t, S2/n, label=\"S (continuous)\")\n",
    "plt.plot(t, I2/n, label=\"I (continuous)\")\n",
    "plt.plot(t, R2/n, label=\"R (continuous)\")\n",
    "plt.legend()\n",
    "plt.xlabel('time')\n",
    "plt.ylabel('Fraction infected')\n",
    "plt.show()"
   ]
  },
  {
   "cell_type": "markdown",
   "metadata": {},
   "source": [
    "## Run an SIS simulation on hypergraphs\n",
    "* First simulation is is with discrete time steps (DTMC)\n",
    "* Second simulation is the Gillespie algorithm (CTMC)"
   ]
  },
  {
   "cell_type": "code",
   "execution_count": null,
   "metadata": {},
   "outputs": [],
   "source": [
    "t1, S1, I1 = discrete_SIS(H, tau, gamma, tmin=0, tmax=10, dt=1, initial_infecteds = range(initial_size))\n",
    "t, S2, I2 = Gillespie_SIS(H, tau, gamma, tmin=0, tmax = 10, initial_infecteds = range(initial_size))"
   ]
  },
  {
   "cell_type": "markdown",
   "metadata": {},
   "source": [
    "### Plot the results"
   ]
  },
  {
   "cell_type": "code",
   "execution_count": null,
   "metadata": {},
   "outputs": [],
   "source": [
    "plt.figure()\n",
    "plt.plot(t1, S1/n, label=\"S (discrete)\")\n",
    "plt.plot(t1, I1/n, label=\"I (discrete)\")\n",
    "plt.plot(t, S2/n, label=\"S (continuous)\")\n",
    "plt.plot(t, I2/n, label=\"I (continuous)\")\n",
    "plt.legend()\n",
    "plt.xlabel('time')\n",
    "plt.ylabel('Fraction infected')\n",
    "plt.show()\n"
   ]
  },
  {
   "cell_type": "markdown",
   "metadata": {},
   "source": [
    "# Opinion Models\n",
    "* Discrete state, random update (Voter model)\n",
    "* Discrete state, deterministic update (Majority rule)\n",
    "* Continuous state, random update (Deffuant-Weisbuch model)\n",
    "* Continuous state, deterministic update (Hegelmann-Krause)"
   ]
  },
  {
   "cell_type": "markdown",
   "metadata": {},
   "source": [
    "### Import Opinion Model Library"
   ]
  },
  {
   "cell_type": "code",
   "execution_count": null,
   "metadata": {},
   "outputs": [],
   "source": [
    "import hypercontagion.simulation.opinions as opinions\n",
    "import random"
   ]
  },
  {
   "cell_type": "markdown",
   "metadata": {},
   "source": [
    "## Voter Model\n",
    "* Binary opinion: For/Against or Yes/No\n",
    "* Randomly choose a hyperedge and if a majority of neighbors believe the opposite, then you change your mind "
   ]
  },
  {
   "cell_type": "markdown",
   "metadata": {},
   "source": [
    "### Run simulation"
   ]
  },
  {
   "cell_type": "code",
   "execution_count": null,
   "metadata": {},
   "outputs": [],
   "source": [
    "yesAndNo = [random.choice([\"Yes\", \"No\"]) for i in range(n)]\n",
    "yesAndNo = np.array(yesAndNo, dtype=object)\n",
    "t, statesVM = opinions.random_node_and_group_sim_discrete_state(H, yesAndNo, tmin=0, tmax=10000)"
   ]
  },
  {
   "cell_type": "markdown",
   "metadata": {},
   "source": [
    "### Plot Results"
   ]
  },
  {
   "cell_type": "code",
   "execution_count": null,
   "metadata": {},
   "outputs": [],
   "source": [
    "yesArray = np.count_nonzero(statesVM == \"Yes\", axis=0)\n",
    "noArray = np.count_nonzero(statesVM == \"No\", axis=0)\n",
    "plt.figure()\n",
    "plt.plot(t, yesArray, label=\"For\")\n",
    "plt.plot(t, noArray, label=\"Against\")\n",
    "plt.xlabel(\"Time\")\n",
    "plt.ylabel(\"Number of people for idea\")\n",
    "plt.legend()\n",
    "plt.show()"
   ]
  },
  {
   "cell_type": "markdown",
   "metadata": {},
   "source": [
    "## Deffuant-Weisbuch"
   ]
  },
  {
   "cell_type": "markdown",
   "metadata": {},
   "source": [
    "$\\epsilon$ is a \"cautiousness\" parameter"
   ]
  },
  {
   "cell_type": "code",
   "execution_count": null,
   "metadata": {},
   "outputs": [],
   "source": [
    "epsilon=0.3"
   ]
  },
  {
   "cell_type": "markdown",
   "metadata": {},
   "source": [
    "### Run Simulation"
   ]
  },
  {
   "cell_type": "code",
   "execution_count": null,
   "metadata": {},
   "outputs": [],
   "source": [
    "initial_states = np.random.uniform(low=-1.0, high=1.0, size=n)\n",
    "t, statesDW = opinions.random_group_sim_continuous_state_1D(H, initial_states, tmin = 0, tmax=10000, epsilon=epsilon)"
   ]
  },
  {
   "cell_type": "markdown",
   "metadata": {},
   "source": [
    "### Plot Results"
   ]
  },
  {
   "cell_type": "code",
   "execution_count": null,
   "metadata": {},
   "outputs": [],
   "source": [
    "plt.figure()\n",
    "plt.plot(t, statesDW[::10,:].T)\n",
    "plt.xlabel(\"Time\")\n",
    "plt.ylabel(\"Opinion on the spectrum [-1,1]\")\n",
    "plt.show()"
   ]
  },
  {
   "cell_type": "markdown",
   "metadata": {},
   "source": [
    "## Hegselmann-Krause"
   ]
  },
  {
   "cell_type": "markdown",
   "metadata": {},
   "source": [
    "### Run Simulation"
   ]
  },
  {
   "cell_type": "code",
   "execution_count": null,
   "metadata": {},
   "outputs": [],
   "source": [
    "initial_states = np.random.uniform(low=-1.0, high=1.0, size=n)\n",
    "t, statesHK = opinions.synchronous_update_continuous_state_1D(H, initial_states, tmin=0, tmax=10)"
   ]
  },
  {
   "cell_type": "markdown",
   "metadata": {},
   "source": [
    "### Plot Results"
   ]
  },
  {
   "cell_type": "code",
   "execution_count": null,
   "metadata": {},
   "outputs": [],
   "source": [
    "plt.figure()\n",
    "plt.plot(t, statesHK[::50,:].T)\n",
    "plt.xlabel(\"Time\")\n",
    "plt.ylabel(\"Opinion on the spectrum [-1,1]\")\n",
    "plt.show()"
   ]
  },
  {
   "cell_type": "code",
   "execution_count": null,
   "metadata": {},
   "outputs": [],
   "source": []
  }
 ],
 "metadata": {
  "celltoolbar": "Raw Cell Format",
  "kernelspec": {
   "display_name": "Python 3",
   "language": "python",
   "name": "python3"
  },
  "language_info": {
   "codemirror_mode": {
    "name": "ipython",
    "version": 3
   },
   "file_extension": ".py",
   "mimetype": "text/x-python",
   "name": "python",
   "nbconvert_exporter": "python",
   "pygments_lexer": "ipython3",
   "version": "3.9.4"
  }
 },
 "nbformat": 4,
 "nbformat_minor": 4
}
