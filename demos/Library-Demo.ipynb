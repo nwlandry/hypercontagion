{
 "cells": [
  {
   "cell_type": "markdown",
   "metadata": {},
   "source": [
    "# Import Packages"
   ]
  },
  {
   "cell_type": "code",
   "execution_count": 1,
   "metadata": {},
   "outputs": [],
   "source": [
    "import xgi\n",
    "import hypercontagion as hc\n",
    "import matplotlib.pyplot as plt\n",
    "import time\n",
    "import numpy as np\n",
    "import cProfile\n",
    "import random"
   ]
  },
  {
   "cell_type": "markdown",
   "metadata": {},
   "source": [
    "# Set Up the Hypergraph\n",
    "* Specify the number of nodes\n",
    "* Specify the hyperdegree distribution\n",
    "* Generates a configuration model of the hypergraph"
   ]
  },
  {
   "cell_type": "code",
   "execution_count": 2,
   "metadata": {},
   "outputs": [],
   "source": [
    "n = 1000\n",
    "k1 = {i : random.randint(5, 10) for i in range(n)}\n",
    "k2 = {i : sorted(k1.values())[i] for i in range(n)}\n",
    "\n",
    "H = xgi.chung_lu_hypergraph(k1, k2)"
   ]
  },
  {
   "cell_type": "markdown",
   "metadata": {},
   "source": [
    "# Epidemic Simulations"
   ]
  },
  {
   "cell_type": "markdown",
   "metadata": {},
   "source": [
    "## Epidemic Parameters\n",
    "* Initial size is the number of initial infected nodes\n",
    "* $\\gamma$ is the healing rate of a node\n",
    "* $\\mathbf{\\beta}$ is the infection rate for each hyperedge size (keys are the hyperedge size and the value is the infection rate)"
   ]
  },
  {
   "cell_type": "code",
   "execution_count": 3,
   "metadata": {},
   "outputs": [],
   "source": [
    "initial_size = 100\n",
    "gamma = 0.01\n",
    "tau = {i: 0.1 for i in xgi.unique_edge_sizes(H)}"
   ]
  },
  {
   "cell_type": "markdown",
   "metadata": {},
   "source": [
    "## Run an SIR simulation on hypergraphs\n",
    "* First simulation is is with discrete time steps (DTMC)\n",
    "* Second simulation is the Gillespie algorithm (CTMC)"
   ]
  },
  {
   "cell_type": "code",
   "execution_count": 6,
   "metadata": {},
   "outputs": [],
   "source": [
    "t1, S1, I1, R1 = hc.discrete_SIR(H, tau, gamma, tmin=0, tmax=100, dt=1, initial_infecteds = range(initial_size))\n",
    "# t, S2, I2, R2 = Gillespie_SIR(H, tau, gamma, tmin=0, tmax = 10, initial_infecteds = range(initial_size))\n",
    "#cProfile.run('discrete_SIR(H, tau, gamma, tmin=0, tmax=100, dt=0.1, rho=0.5)', sort=\"cumtime\")\n",
    "#t, S2, I2, R2 = Gillespie_SIR(H, tau, gamma, tmin=0, tmax = 100, initial_infecteds = range(initial_size))"
   ]
  },
  {
   "cell_type": "markdown",
   "metadata": {},
   "source": [
    "### Plot the results"
   ]
  },
  {
   "cell_type": "code",
   "execution_count": 7,
   "metadata": {},
   "outputs": [
    {
     "data": {
      "image/png": "[encoded data removed]",
      "text/plain": [
       "<Figure size 432x288 with 1 Axes>"
      ]
     },
     "metadata": {
      "needs_background": "light"
     },
     "output_type": "display_data"
    }
   ],
   "source": [
    "plt.figure()\n",
    "plt.plot(t1, S1/n, label=\"S (discrete)\")\n",
    "plt.plot(t1, I1/n, label=\"I (discrete)\")\n",
    "plt.plot(t1, R1/n, label=\"R (discrete)\")\n",
    "# plt.plot(t, S2/n, label=\"S (continuous)\")\n",
    "# plt.plot(t, I2/n, label=\"I (continuous)\")\n",
    "# plt.plot(t, R2/n, label=\"R (continuous)\")\n",
    "plt.legend()\n",
    "plt.xlabel('time')\n",
    "plt.ylabel('Fraction infected')\n",
    "plt.show()"
   ]
  },
  {
   "cell_type": "markdown",
   "metadata": {},
   "source": [
    "## Run an SIS simulation on hypergraphs\n",
    "* First simulation is is with discrete time steps (DTMC)\n",
    "* Second simulation is the Gillespie algorithm (CTMC)"
   ]
  },
  {
   "cell_type": "code",
   "execution_count": 4,
   "metadata": {},
   "outputs": [
    {
     "ename": "AttributeError",
     "evalue": "'Hypergraph' object has no attribute 'getHyperedgeSizes'",
     "output_type": "error",
     "traceback": [
      "\u001b[1;31m---------------------------------------------------------------------------\u001b[0m",
      "\u001b[1;31mAttributeError\u001b[0m                            Traceback (most recent call last)",
      "\u001b[1;32m~\\AppData\\Local\\Temp/ipykernel_20212/1678647023.py\u001b[0m in \u001b[0;36m<module>\u001b[1;34m\u001b[0m\n\u001b[0;32m      1\u001b[0m \u001b[0mt1\u001b[0m\u001b[1;33m,\u001b[0m \u001b[0mS1\u001b[0m\u001b[1;33m,\u001b[0m \u001b[0mI1\u001b[0m \u001b[1;33m=\u001b[0m \u001b[0mdiscrete_SIS\u001b[0m\u001b[1;33m(\u001b[0m\u001b[0mH\u001b[0m\u001b[1;33m,\u001b[0m \u001b[0mtau\u001b[0m\u001b[1;33m,\u001b[0m \u001b[0mgamma\u001b[0m\u001b[1;33m,\u001b[0m \u001b[0mtmin\u001b[0m\u001b[1;33m=\u001b[0m\u001b[1;36m0\u001b[0m\u001b[1;33m,\u001b[0m \u001b[0mtmax\u001b[0m\u001b[1;33m=\u001b[0m\u001b[1;36m10\u001b[0m\u001b[1;33m,\u001b[0m \u001b[0mdt\u001b[0m\u001b[1;33m=\u001b[0m\u001b[1;36m1\u001b[0m\u001b[1;33m,\u001b[0m \u001b[0minitial_infecteds\u001b[0m \u001b[1;33m=\u001b[0m \u001b[0mrange\u001b[0m\u001b[1;33m(\u001b[0m\u001b[0minitial_size\u001b[0m\u001b[1;33m)\u001b[0m\u001b[1;33m)\u001b[0m\u001b[1;33m\u001b[0m\u001b[1;33m\u001b[0m\u001b[0m\n\u001b[1;32m----> 2\u001b[1;33m \u001b[0mt\u001b[0m\u001b[1;33m,\u001b[0m \u001b[0mS2\u001b[0m\u001b[1;33m,\u001b[0m \u001b[0mI2\u001b[0m \u001b[1;33m=\u001b[0m \u001b[0mGillespie_SIS\u001b[0m\u001b[1;33m(\u001b[0m\u001b[0mH\u001b[0m\u001b[1;33m,\u001b[0m \u001b[0mtau\u001b[0m\u001b[1;33m,\u001b[0m \u001b[0mgamma\u001b[0m\u001b[1;33m,\u001b[0m \u001b[0mtmin\u001b[0m\u001b[1;33m=\u001b[0m\u001b[1;36m0\u001b[0m\u001b[1;33m,\u001b[0m \u001b[0mtmax\u001b[0m \u001b[1;33m=\u001b[0m \u001b[1;36m10\u001b[0m\u001b[1;33m,\u001b[0m \u001b[0minitial_infecteds\u001b[0m \u001b[1;33m=\u001b[0m \u001b[0mrange\u001b[0m\u001b[1;33m(\u001b[0m\u001b[0minitial_size\u001b[0m\u001b[1;33m)\u001b[0m\u001b[1;33m)\u001b[0m\u001b[1;33m\u001b[0m\u001b[1;33m\u001b[0m\u001b[0m\n\u001b[0m",
      "\u001b[1;32mc:\\users\\nicho\\documents\\github\\hypercontagion\\hypercontagion\\simulation\\epidemics.py\u001b[0m in \u001b[0;36mGillespie_SIS\u001b[1;34m(H, tau, gamma, transmission_function, initial_infecteds, rho, tmin, tmax, recovery_weight, transmission_weight, **args)\u001b[0m\n\u001b[0;32m    616\u001b[0m \u001b[1;33m\u001b[0m\u001b[0m\n\u001b[0;32m    617\u001b[0m     \u001b[0mIS_links\u001b[0m \u001b[1;33m=\u001b[0m \u001b[0mdict\u001b[0m\u001b[1;33m(\u001b[0m\u001b[1;33m)\u001b[0m\u001b[1;33m\u001b[0m\u001b[1;33m\u001b[0m\u001b[0m\n\u001b[1;32m--> 618\u001b[1;33m     \u001b[1;32mfor\u001b[0m \u001b[0msize\u001b[0m \u001b[1;32min\u001b[0m \u001b[0mH\u001b[0m\u001b[1;33m.\u001b[0m\u001b[0mgetHyperedgeSizes\u001b[0m\u001b[1;33m(\u001b[0m\u001b[1;33m)\u001b[0m\u001b[1;33m:\u001b[0m\u001b[1;33m\u001b[0m\u001b[1;33m\u001b[0m\u001b[0m\n\u001b[0m\u001b[0;32m    619\u001b[0m         \u001b[1;32mif\u001b[0m \u001b[0mtransmission_weight\u001b[0m \u001b[1;32mis\u001b[0m \u001b[1;32mNone\u001b[0m\u001b[1;33m:\u001b[0m\u001b[1;33m\u001b[0m\u001b[1;33m\u001b[0m\u001b[0m\n\u001b[0;32m    620\u001b[0m             \u001b[0mIS_links\u001b[0m\u001b[1;33m[\u001b[0m\u001b[0msize\u001b[0m\u001b[1;33m]\u001b[0m \u001b[1;33m=\u001b[0m \u001b[0m_ListDict_\u001b[0m\u001b[1;33m(\u001b[0m\u001b[1;33m)\u001b[0m\u001b[1;33m\u001b[0m\u001b[1;33m\u001b[0m\u001b[0m\n",
      "\u001b[1;31mAttributeError\u001b[0m: 'Hypergraph' object has no attribute 'getHyperedgeSizes'"
     ]
    }
   ],
   "source": [
    "t1, S1, I1 = hc.discrete_SIS(H, tau, gamma, tmin=0, tmax=10, dt=1, initial_infecteds = range(initial_size))\n",
    "t, S2, I2 = Gillespie_SIS(H, tau, gamma, tmin=0, tmax = 10, initial_infecteds = range(initial_size))"
   ]
  },
  {
   "cell_type": "markdown",
   "metadata": {},
   "source": [
    "### Plot the results"
   ]
  },
  {
   "cell_type": "code",
   "execution_count": null,
   "metadata": {},
   "outputs": [],
   "source": [
    "plt.figure()\n",
    "plt.plot(t1, S1/n, label=\"S (discrete)\")\n",
    "plt.plot(t1, I1/n, label=\"I (discrete)\")\n",
    "plt.plot(t, S2/n, label=\"S (continuous)\")\n",
    "plt.plot(t, I2/n, label=\"I (continuous)\")\n",
    "plt.legend()\n",
    "plt.xlabel('time')\n",
    "plt.ylabel('Fraction infected')\n",
    "plt.show()\n"
   ]
  },
  {
   "cell_type": "markdown",
   "metadata": {},
   "source": [
    "# Opinion Models\n",
    "* Discrete state, random update (Voter model)\n",
    "* Discrete state, deterministic update (Majority rule)\n",
    "* Continuous state, random update (Deffuant-Weisbuch model)\n",
    "* Continuous state, deterministic update (Hegelmann-Krause)"
   ]
  },
  {
   "cell_type": "markdown",
   "metadata": {},
   "source": [
    "### Import Opinion Model Library"
   ]
  },
  {
   "cell_type": "code",
   "execution_count": null,
   "metadata": {},
   "outputs": [],
   "source": [
    "import hypercontagion.simulation.opinions as opinions\n",
    "import random"
   ]
  },
  {
   "cell_type": "markdown",
   "metadata": {},
   "source": [
    "## Voter Model\n",
    "* Binary opinion: For/Against or Yes/No\n",
    "* Randomly choose a hyperedge and if a majority of neighbors believe the opposite, then you change your mind "
   ]
  },
  {
   "cell_type": "markdown",
   "metadata": {},
   "source": [
    "### Run simulation"
   ]
  },
  {
   "cell_type": "code",
   "execution_count": null,
   "metadata": {},
   "outputs": [],
   "source": [
    "yesAndNo = [random.choice([\"Yes\", \"No\"]) for i in range(n)]\n",
    "yesAndNo = np.array(yesAndNo, dtype=object)\n",
    "t, statesVM = opinions.random_node_and_group_sim_discrete_state(H, yesAndNo, tmin=0, tmax=10000)"
   ]
  },
  {
   "cell_type": "markdown",
   "metadata": {},
   "source": [
    "### Plot Results"
   ]
  },
  {
   "cell_type": "code",
   "execution_count": null,
   "metadata": {},
   "outputs": [],
   "source": [
    "yesArray = np.count_nonzero(statesVM == \"Yes\", axis=0)\n",
    "noArray = np.count_nonzero(statesVM == \"No\", axis=0)\n",
    "plt.figure()\n",
    "plt.plot(t, yesArray, label=\"For\")\n",
    "plt.plot(t, noArray, label=\"Against\")\n",
    "plt.xlabel(\"Time\")\n",
    "plt.ylabel(\"Number of people for idea\")\n",
    "plt.legend()\n",
    "plt.show()"
   ]
  },
  {
   "cell_type": "markdown",
   "metadata": {},
   "source": [
    "## Deffuant-Weisbuch"
   ]
  },
  {
   "cell_type": "markdown",
   "metadata": {},
   "source": [
    "$\\epsilon$ is a \"cautiousness\" parameter"
   ]
  },
  {
   "cell_type": "code",
   "execution_count": null,
   "metadata": {},
   "outputs": [],
   "source": [
    "epsilon=0.3"
   ]
  },
  {
   "cell_type": "markdown",
   "metadata": {},
   "source": [
    "### Run Simulation"
   ]
  },
  {
   "cell_type": "code",
   "execution_count": null,
   "metadata": {},
   "outputs": [],
   "source": [
    "initial_states = np.random.uniform(low=-1.0, high=1.0, size=n)\n",
    "t, statesDW = opinions.random_group_sim_continuous_state_1D(H, initial_states, tmin = 0, tmax=10000, epsilon=epsilon)"
   ]
  },
  {
   "cell_type": "markdown",
   "metadata": {},
   "source": [
    "### Plot Results"
   ]
  },
  {
   "cell_type": "code",
   "execution_count": null,
   "metadata": {},
   "outputs": [],
   "source": [
    "plt.figure()\n",
    "plt.plot(t, statesDW[::10,:].T)\n",
    "plt.xlabel(\"Time\")\n",
    "plt.ylabel(\"Opinion on the spectrum [-1,1]\")\n",
    "plt.show()"
   ]
  },
  {
   "cell_type": "markdown",
   "metadata": {},
   "source": [
    "## Hegselmann-Krause"
   ]
  },
  {
   "cell_type": "markdown",
   "metadata": {},
   "source": [
    "### Run Simulation"
   ]
  },
  {
   "cell_type": "code",
   "execution_count": null,
   "metadata": {},
   "outputs": [],
   "source": [
    "initial_states = np.random.uniform(low=-1.0, high=1.0, size=n)\n",
    "t, statesHK = opinions.synchronous_update_continuous_state_1D(H, initial_states, tmin=0, tmax=10)"
   ]
  },
  {
   "cell_type": "markdown",
   "metadata": {},
   "source": [
    "### Plot Results"
   ]
  },
  {
   "cell_type": "code",
   "execution_count": null,
   "metadata": {},
   "outputs": [],
   "source": [
    "plt.figure()\n",
    "plt.plot(t, statesHK[::50,:].T)\n",
    "plt.xlabel(\"Time\")\n",
    "plt.ylabel(\"Opinion on the spectrum [-1,1]\")\n",
    "plt.show()"
   ]
  },
  {
   "cell_type": "code",
   "execution_count": null,
   "metadata": {},
   "outputs": [],
   "source": []
  }
 ],
 "metadata": {
  "celltoolbar": "Raw Cell Format",
  "kernelspec": {
   "display_name": "Python 3",
   "language": "python",
   "name": "python3"
  },
  "language_info": {
   "codemirror_mode": {
    "name": "ipython",
    "version": 3
   },
   "file_extension": ".py",
   "mimetype": "text/x-python",
   "name": "python",
   "nbconvert_exporter": "python",
   "pygments_lexer": "ipython3",
   "version": "3.9.7"
  }
 },
 "nbformat": 4,
 "nbformat_minor": 4
}
